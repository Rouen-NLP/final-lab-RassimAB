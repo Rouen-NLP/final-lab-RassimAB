{
 "cells": [
  {
   "cell_type": "markdown",
   "metadata": {},
   "source": [
    "# Project NLP & Deep Learning : Tobacco\n",
    "\n",
    "Rassim ABDOU"
   ]
  },
  {
   "cell_type": "code",
   "execution_count": 2,
   "metadata": {},
   "outputs": [],
   "source": [
    "# Importing tools\n",
    "import numpy as np\n",
    "import pandas as pd\n",
    "import os\n",
    "import glob\n",
    "import seaborn as sns\n",
    "import matplotlib.pyplot as plt\n",
    "from sklearn.model_selection import train_test_split, GridSearchCV\n",
    "from sklearn.feature_extraction.text import CountVectorizer\n",
    "from sklearn.feature_extraction.text import TfidfTransformer\n",
    "from sklearn import metrics\n",
    "from sklearn.naive_bayes import MultinomialNB\n",
    "from sklearn.svm import SVC\n",
    "from sklearn.metrics import classification_report\n",
    "from sklearn.metrics import confusion_matrix\n",
    "from sklearn.neural_network import MLPClassifier\n",
    "\n",
    "import ast\n",
    "from sklearn import preprocessing\n",
    "from keras.callbacks import ModelCheckpoint, EarlyStopping\n",
    "from keras.layers import Dense, Embedding, Input\n",
    "from keras.layers import GRU, Dropout, MaxPooling1D, Conv1D, Flatten\n",
    "from keras.models import Model\n",
    "import itertools\n",
    "from keras.utils import np_utils\n",
    "from sklearn.metrics import (classification_report, \n",
    "                             precision_recall_fscore_support, \n",
    "                             accuracy_score)\n",
    "\n",
    "from keras.preprocessing import text, sequence\n",
    "from nn_utils import TrainingHistory\n",
    "\n",
    "\n",
    "\n",
    "# Ignore warning \n",
    "import sys\n",
    "import warnings\n",
    "\n",
    "if not sys.warnoptions:\n",
    "    warnings.simplefilter(\"ignore\")\n",
    "    \n",
    "%matplotlib inline"
   ]
  },
  {
   "cell_type": "code",
   "execution_count": 3,
   "metadata": {},
   "outputs": [
    {
     "data": {
      "text/plain": [
       "3482"
      ]
     },
     "execution_count": 3,
     "metadata": {},
     "output_type": "execute_result"
    }
   ],
   "source": [
    "# Reading the documents texts in a list 'text_data'\n",
    "text_data = []\n",
    "path='Tobacco3482-OCR'\n",
    "for file in glob.glob(os.path.join(path,'*')):\n",
    "    for text_file in glob.glob(os.path.join(file,'*.txt')):\n",
    "        with open(text_file, 'r') as myfile:\n",
    "            text_data.append(myfile.read().replace('\\n', '')) \n",
    "            \n",
    "# Print the length of the text documents\n",
    "len(text_data)"
   ]
  },
  {
   "cell_type": "code",
   "execution_count": 4,
   "metadata": {},
   "outputs": [
    {
     "name": "stdout",
     "output_type": "stream",
     "text": [
      "Shape : (3482, 2)\n"
     ]
    },
    {
     "data": {
      "text/html": [
       "<div>\n",
       "<style scoped>\n",
       "    .dataframe tbody tr th:only-of-type {\n",
       "        vertical-align: middle;\n",
       "    }\n",
       "\n",
       "    .dataframe tbody tr th {\n",
       "        vertical-align: top;\n",
       "    }\n",
       "\n",
       "    .dataframe thead th {\n",
       "        text-align: right;\n",
       "    }\n",
       "</style>\n",
       "<table border=\"1\" class=\"dataframe\">\n",
       "  <thead>\n",
       "    <tr style=\"text-align: right;\">\n",
       "      <th></th>\n",
       "      <th>img_path</th>\n",
       "      <th>label</th>\n",
       "    </tr>\n",
       "  </thead>\n",
       "  <tbody>\n",
       "    <tr>\n",
       "      <th>0</th>\n",
       "      <td>Advertisement/0000136188.jpg</td>\n",
       "      <td>Advertisement</td>\n",
       "    </tr>\n",
       "    <tr>\n",
       "      <th>1</th>\n",
       "      <td>Advertisement/0000435350.jpg</td>\n",
       "      <td>Advertisement</td>\n",
       "    </tr>\n",
       "    <tr>\n",
       "      <th>2</th>\n",
       "      <td>Advertisement/0000556056.jpg</td>\n",
       "      <td>Advertisement</td>\n",
       "    </tr>\n",
       "    <tr>\n",
       "      <th>3</th>\n",
       "      <td>Advertisement/0030048095.jpg</td>\n",
       "      <td>Advertisement</td>\n",
       "    </tr>\n",
       "    <tr>\n",
       "      <th>4</th>\n",
       "      <td>Advertisement/0030048989.jpg</td>\n",
       "      <td>Advertisement</td>\n",
       "    </tr>\n",
       "  </tbody>\n",
       "</table>\n",
       "</div>"
      ],
      "text/plain": [
       "                       img_path          label\n",
       "0  Advertisement/0000136188.jpg  Advertisement\n",
       "1  Advertisement/0000435350.jpg  Advertisement\n",
       "2  Advertisement/0000556056.jpg  Advertisement\n",
       "3  Advertisement/0030048095.jpg  Advertisement\n",
       "4  Advertisement/0030048989.jpg  Advertisement"
      ]
     },
     "execution_count": 4,
     "metadata": {},
     "output_type": "execute_result"
    }
   ],
   "source": [
    "df = pd.read_csv('tobacco-lab_data_Tobacco3482.csv')\n",
    "print(\"Shape :\", df.shape)\n",
    "df.head()"
   ]
  },
  {
   "cell_type": "markdown",
   "metadata": {},
   "source": [
    "#### Replacing the image_names by its own content"
   ]
  },
  {
   "cell_type": "code",
   "execution_count": 5,
   "metadata": {},
   "outputs": [
    {
     "data": {
      "text/html": [
       "<div>\n",
       "<style scoped>\n",
       "    .dataframe tbody tr th:only-of-type {\n",
       "        vertical-align: middle;\n",
       "    }\n",
       "\n",
       "    .dataframe tbody tr th {\n",
       "        vertical-align: top;\n",
       "    }\n",
       "\n",
       "    .dataframe thead th {\n",
       "        text-align: right;\n",
       "    }\n",
       "</style>\n",
       "<table border=\"1\" class=\"dataframe\">\n",
       "  <thead>\n",
       "    <tr style=\"text-align: right;\">\n",
       "      <th></th>\n",
       "      <th>img_path</th>\n",
       "      <th>label</th>\n",
       "    </tr>\n",
       "  </thead>\n",
       "  <tbody>\n",
       "    <tr>\n",
       "      <th>0</th>\n",
       "      <td>A Mpertant as yarsesiye teaetered cabiieess. B...</td>\n",
       "      <td>Advertisement</td>\n",
       "    </tr>\n",
       "    <tr>\n",
       "      <th>1</th>\n",
       "      <td>TE che fitmm66400 7127KOOLS are the only cigar...</td>\n",
       "      <td>Advertisement</td>\n",
       "    </tr>\n",
       "    <tr>\n",
       "      <th>2</th>\n",
       "      <td>so ARN Rr nrBWR Ga ||Vending Operators Now the...</td>\n",
       "      <td>Advertisement</td>\n",
       "    </tr>\n",
       "    <tr>\n",
       "      <th>3</th>\n",
       "      <td>MARCH 24,19 VO — 3. Tersrearep ‘ yi ills :i We...</td>\n",
       "      <td>Advertisement</td>\n",
       "    </tr>\n",
       "    <tr>\n",
       "      <th>4</th>\n",
       "      <td>~Spend a milder moment qswith Raleigh.=A speci...</td>\n",
       "      <td>Advertisement</td>\n",
       "    </tr>\n",
       "  </tbody>\n",
       "</table>\n",
       "</div>"
      ],
      "text/plain": [
       "                                            img_path          label\n",
       "0  A Mpertant as yarsesiye teaetered cabiieess. B...  Advertisement\n",
       "1  TE che fitmm66400 7127KOOLS are the only cigar...  Advertisement\n",
       "2  so ARN Rr nrBWR Ga ||Vending Operators Now the...  Advertisement\n",
       "3  MARCH 24,19 VO — 3. Tersrearep ‘ yi ills :i We...  Advertisement\n",
       "4  ~Spend a milder moment qswith Raleigh.=A speci...  Advertisement"
      ]
     },
     "execution_count": 5,
     "metadata": {},
     "output_type": "execute_result"
    }
   ],
   "source": [
    "for i, content in enumerate(text_data):  \n",
    "    df.loc[i, 'img_path'] = content \n",
    "    \n",
    "df.head()"
   ]
  },
  {
   "cell_type": "code",
   "execution_count": 6,
   "metadata": {},
   "outputs": [
    {
     "name": "stdout",
     "output_type": "stream",
     "text": [
      "Attribut    Taux de NaN\n",
      "label       0.0\n",
      "img_path    0.0\n"
     ]
    }
   ],
   "source": [
    "nans = df.isnull().sum() / len(df.index) # proportion de NaN dans chaque colonne\n",
    "nans = nans.sort_values(ascending = False)\n",
    "print(\"Attribut    Taux de NaN\")\n",
    "print(nans.to_string())"
   ]
  },
  {
   "cell_type": "code",
   "execution_count": 7,
   "metadata": {},
   "outputs": [
    {
     "data": {
      "image/png": "[encoded data removed]",
      "text/plain": [
       "<matplotlib.figure.Figure at 0x11878ff60>"
      ]
     },
     "metadata": {},
     "output_type": "display_data"
    }
   ],
   "source": [
    "# Plot the statistics of labels\n",
    "sns.set(style=\"darkgrid\")\n",
    "sns.set(rc={'figure.figsize':(11.7,8.27)})\n",
    "plot = sns.countplot(x='label', data=df, order = df['label'].value_counts().index, palette=\"Set3\")"
   ]
  },
  {
   "cell_type": "markdown",
   "metadata": {},
   "source": [
    "### Train, Validation & Test data"
   ]
  },
  {
   "cell_type": "code",
   "execution_count": 58,
   "metadata": {},
   "outputs": [],
   "source": [
    "# Splitting the data\n",
    "X_train, X_test, y_train, y_test = train_test_split(df[df.columns[0]], df[df.columns[1]], test_size=0.30)\n",
    "X_test, X_dev, y_test, y_dev = train_test_split(X_test, y_test, test_size=0.50)"
   ]
  },
  {
   "cell_type": "code",
   "execution_count": 59,
   "metadata": {},
   "outputs": [
    {
     "name": "stdout",
     "output_type": "stream",
     "text": [
      "Number of train data : 2437\n",
      "Number of dev data : 523\n",
      "Number of test data : 522\n"
     ]
    }
   ],
   "source": [
    "print(\"Number of train data :\", len(X_train))\n",
    "print(\"Number of dev data :\", len(X_dev))\n",
    "print(\"Number of test data :\", len(X_test))"
   ]
  },
  {
   "cell_type": "markdown",
   "metadata": {},
   "source": [
    "- We'll use two different text structures which are Bag of words and TF-IDF. Then compare how the models that we'll define deal with those sturctures and which one gives the best performances with the best hyperparameters. "
   ]
  },
  {
   "cell_type": "markdown",
   "metadata": {},
   "source": [
    "### Data representations : (BoW & TF-IDF)"
   ]
  },
  {
   "cell_type": "code",
   "execution_count": 60,
   "metadata": {},
   "outputs": [],
   "source": [
    "def bow_rep(X_train, X_dev, X_test):\n",
    "    # Create document vectors\n",
    "    count_vectorizer = CountVectorizer()\n",
    "    vectorizer = CountVectorizer(max_features=2000)\n",
    "    vectorizer.fit(X_train)\n",
    "    X_train_counts = vectorizer.transform(X_train)\n",
    "    X_test_counts = vectorizer.transform(X_test)\n",
    "    X_dev_counts = vectorizer.transform(X_dev)\n",
    "    \n",
    "    return X_train_counts, X_dev_counts, X_test_counts\n",
    "    \n",
    "def tf_idf_rep(X_train_counts, X_dev_counts, X_test_counts):\n",
    "\n",
    "    tf_transformer = TfidfTransformer().fit(X_train_counts)\n",
    "    X_train_tf = tf_transformer.transform(X_train_counts)\n",
    "    X_dev_tf = tf_transformer.transform(X_dev_counts)\n",
    "    X_test_tf = tf_transformer.transform(X_test_counts)\n",
    "    \n",
    "    return X_train_tf, X_dev_tf, X_test_tf"
   ]
  },
  {
   "cell_type": "markdown",
   "metadata": {},
   "source": [
    "#### Trainning a Naive Bayes classifier"
   ]
  },
  {
   "cell_type": "markdown",
   "metadata": {},
   "source": [
    "- The idea is based on running multiple Naïve bayes classifiers with several values of the hyperparameter 'alpha', starting from without smoothing (alpha = 0) to 5.0 with a step or 1. And apply a 5-fold cross validation to test the model accuracy by computer the mean of the 5 experiments\n",
    "- We'll start with the BoW representation and then TF-IDF."
   ]
  },
  {
   "cell_type": "markdown",
   "metadata": {},
   "source": [
    "##### Naïve Bayes with Countvectorizer :"
   ]
  },
  {
   "cell_type": "code",
   "execution_count": 61,
   "metadata": {},
   "outputs": [],
   "source": [
    "X_train_counts, X_dev_counts, X_test_counts = bow_rep(X_train, X_dev, X_test)"
   ]
  },
  {
   "cell_type": "code",
   "execution_count": 62,
   "metadata": {},
   "outputs": [
    {
     "data": {
      "text/plain": [
       "(2437, 2000)"
      ]
     },
     "execution_count": 62,
     "metadata": {},
     "output_type": "execute_result"
    }
   ],
   "source": [
    "X_train_counts.A.shape"
   ]
  },
  {
   "cell_type": "code",
   "execution_count": 63,
   "metadata": {},
   "outputs": [
    {
     "name": "stdout",
     "output_type": "stream",
     "text": [
      "Rank 1\n",
      "Alpha : 1.0\n",
      "The mean accuracy : 0.688\n",
      "\n",
      "Rank 2\n",
      "Alpha : 2.0\n",
      "The mean accuracy : 0.685\n",
      "\n",
      "Rank 3\n",
      "Alpha : 3.0\n",
      "The mean accuracy : 0.679\n",
      "\n",
      "Rank 4\n",
      "Alpha : 4.0\n",
      "The mean accuracy : 0.676\n",
      "\n",
      "Rank 5\n",
      "Alpha : 5.0\n",
      "The mean accuracy : 0.669\n",
      "\n",
      "Rank 6\n",
      "Alpha : 0.0\n",
      "The mean accuracy : 0.632\n",
      "\n"
     ]
    }
   ],
   "source": [
    "parameters = {'alpha' : [0.0, 1.0, 2.0, 3.0, 4.0, 5.0]}\n",
    "\n",
    "nb_classifier = MultinomialNB()\n",
    "grid_search_clf = GridSearchCV(nb_classifier, parameters, cv=5, return_train_score=True)\n",
    "grid_search_clf.fit(X_train_counts, y_train)\n",
    "res = grid_search_clf.cv_results_\n",
    "\n",
    "for i in range(1, 7):\n",
    "    print('Rank', i)\n",
    "    ind = np.where(res['rank_test_score'] == i)\n",
    "    print('Alpha : {}'.format(res['params'][ind[0][0]]['alpha']))\n",
    "    print('The mean accuracy : {}\\n'.format(round(res['mean_test_score'][ind][0], 3)))"
   ]
  },
  {
   "cell_type": "markdown",
   "metadata": {},
   "source": [
    "-  According to the grid search approach, the default value of alpha (1.0) gives the best performances and so we'll build a real Naïve bayes model and compute its accuracy on the test data then discuss the precisions and recalls along with the confusion matrix."
   ]
  },
  {
   "cell_type": "code",
   "execution_count": 64,
   "metadata": {},
   "outputs": [
    {
     "name": "stdout",
     "output_type": "stream",
     "text": [
      "The accuracy on train set :  0.805088223225277\n",
      "The accuracy on dev set :  0.7131931166347992\n",
      "The accuracy on test set :  0.7183908045977011\n"
     ]
    }
   ],
   "source": [
    "# Define the model\n",
    "nb_classifier = MultinomialNB(alpha=1.)\n",
    "\n",
    "# Fit the model\n",
    "nb_classifier.fit(X_train_counts, y_train)\n",
    "\n",
    "\n",
    "pred_train = nb_classifier.predict(X_train_counts)\n",
    "pred_dev = nb_classifier.predict(X_dev_counts)\n",
    "pred_test = nb_classifier.predict(X_test_counts)\n",
    "\n",
    "\n",
    "\n",
    "print(\"The accuracy on train set : \", metrics.accuracy_score(y_train, pred_train))\n",
    "\n",
    "print(\"The accuracy on dev set : \", metrics.accuracy_score(y_dev, pred_dev))\n",
    "\n",
    "print(\"The accuracy on test set : \", metrics.accuracy_score(y_test, pred_test))"
   ]
  },
  {
   "cell_type": "code",
   "execution_count": 76,
   "metadata": {},
   "outputs": [
    {
     "name": "stdout",
     "output_type": "stream",
     "text": [
      "Classification matrix\n",
      "------------------ CountVectorizer ------------------\n",
      "\n",
      "               precision    recall  f1-score   support\n",
      "\n",
      "Advertisement       0.68      0.66      0.67        35\n",
      "        Email       0.94      0.93      0.93        96\n",
      "         Form       0.76      0.79      0.77        61\n",
      "       Letter       0.67      0.64      0.65        80\n",
      "         Memo       0.66      0.74      0.70        95\n",
      "         News       0.62      0.72      0.67        29\n",
      "         Note       0.64      0.36      0.46        25\n",
      "       Report       0.49      0.53      0.51        47\n",
      "       Resume       0.95      1.00      0.97        19\n",
      "   Scientific       0.69      0.57      0.62        35\n",
      "\n",
      "  avg / total       0.72      0.72      0.72       522\n",
      "\n",
      "\n",
      "Confusion matrix \n",
      "\n",
      "CountVectorizer confusion matrix\n"
     ]
    },
    {
     "data": {
      "image/png": "[encoded data removed]",
      "text/plain": [
       "<Figure size 410.4x379.44 with 2 Axes>"
      ]
     },
     "metadata": {},
     "output_type": "display_data"
    }
   ],
   "source": [
    "print('Classification matrix')\n",
    "print('------------------ CountVectorizer ------------------\\n')\n",
    "print(classification_report(y_test, pred_test))\n",
    "print()\n",
    "\n",
    "# confusion matrix\n",
    "print('Confusion matrix \\n')\n",
    "print('CountVectorizer confusion matrix')\n",
    "sns.set(rc={'figure.figsize':(5.7,5.27)})\n",
    "cm_data = confusion_matrix(y_test, pred_test)\n",
    "cm = sns.heatmap(cm_data, annot=True, cmap=\"YlGnBu\", linewidths=.5)"
   ]
  },
  {
   "cell_type": "markdown",
   "metadata": {},
   "source": [
    "##### Naïve Bayes with  TF-IDF :"
   ]
  },
  {
   "cell_type": "code",
   "execution_count": 80,
   "metadata": {},
   "outputs": [],
   "source": [
    "X_train_tf, X_dev_tf, X_test_tf = tf_idf_rep(X_train_counts, X_dev_counts, X_test_counts)"
   ]
  },
  {
   "cell_type": "code",
   "execution_count": 81,
   "metadata": {},
   "outputs": [
    {
     "name": "stdout",
     "output_type": "stream",
     "text": [
      "Rank 1\n",
      "Alpha : 1.0\n",
      "The mean accuracy : 0.625\n",
      "\n",
      "Rank 2\n",
      "Alpha : 0.0\n",
      "The mean accuracy : 0.622\n",
      "\n",
      "Rank 3\n",
      "Alpha : 2.0\n",
      "The mean accuracy : 0.572\n",
      "\n",
      "Rank 4\n",
      "Alpha : 3.0\n",
      "The mean accuracy : 0.533\n",
      "\n",
      "Rank 5\n",
      "Alpha : 4.0\n",
      "The mean accuracy : 0.503\n",
      "\n",
      "Rank 6\n",
      "Alpha : 5.0\n",
      "The mean accuracy : 0.483\n",
      "\n"
     ]
    }
   ],
   "source": [
    "parameters = {'alpha' : [0.0, 1.0, 2.0, 3.0, 4.0, 5.0]}\n",
    "\n",
    "nb_classifier = MultinomialNB()\n",
    "grid_search_clf = GridSearchCV(nb_classifier, parameters, cv=5, return_train_score=True)\n",
    "grid_search_clf.fit(X_train_tf, y_train)\n",
    "res = grid_search_clf.cv_results_\n",
    "\n",
    "for i in range(1, 7):\n",
    "    print('Rank', i)\n",
    "    ind = np.where(res['rank_test_score'] == i)\n",
    "    print('Alpha : {}'.format(res['params'][ind[0][0]]['alpha']))\n",
    "    print('The mean accuracy : {}\\n'.format(round(res['mean_test_score'][ind][0], 3)))"
   ]
  },
  {
   "cell_type": "code",
   "execution_count": 82,
   "metadata": {},
   "outputs": [
    {
     "name": "stdout",
     "output_type": "stream",
     "text": [
      "The accuracy on train set :  0.7287648748461223\n",
      "The accuracy on dev set :  0.6787762906309751\n",
      "The accuracy on test set :  0.6283524904214559\n"
     ]
    }
   ],
   "source": [
    "# train the classifier\n",
    "nb_classifier.fit(X_train_tf, y_train)\n",
    "\n",
    "pred_train_tf = nb_classifier.predict(X_train_tf)\n",
    "pred_dev_tf = nb_classifier.predict(X_dev_tf)\n",
    "pred_test_tf = nb_classifier.predict(X_test_tf)\n",
    "\n",
    "\n",
    "\n",
    "print(\"The accuracy on train set : \", metrics.accuracy_score(y_train, pred_train_tf))\n",
    "\n",
    "print(\"The accuracy on dev set : \", metrics.accuracy_score(y_dev, pred_dev_tf))\n",
    "\n",
    "print(\"The accuracy on test set : \", metrics.accuracy_score(y_test, pred_test_tf))"
   ]
  },
  {
   "cell_type": "code",
   "execution_count": 83,
   "metadata": {},
   "outputs": [
    {
     "name": "stdout",
     "output_type": "stream",
     "text": [
      "---------------------- TF-IDF -----------------------\n",
      "\n",
      "               precision    recall  f1-score   support\n",
      "\n",
      "Advertisement       0.91      0.29      0.43        35\n",
      "        Email       0.91      0.94      0.92        96\n",
      "         Form       0.63      0.75      0.69        61\n",
      "       Letter       0.43      0.74      0.54        80\n",
      "         Memo       0.52      0.81      0.63        95\n",
      "         News       0.82      0.31      0.45        29\n",
      "         Note       1.00      0.04      0.08        25\n",
      "       Report       1.00      0.06      0.12        47\n",
      "       Resume       1.00      0.95      0.97        19\n",
      "   Scientific       0.75      0.43      0.55        35\n",
      "\n",
      "  avg / total       0.73      0.63      0.59       522\n",
      "\n",
      "\n",
      "TF-TDF\n"
     ]
    },
    {
     "data": {
      "image/png": "[encoded data removed]",
      "text/plain": [
       "<Figure size 410.4x379.44 with 2 Axes>"
      ]
     },
     "metadata": {},
     "output_type": "display_data"
    }
   ],
   "source": [
    "\n",
    "print('---------------------- TF-IDF -----------------------\\n')\n",
    "print(classification_report(y_test, pred_test_tf))\n",
    "print()\n",
    "print('TF-TDF')\n",
    "sns.set(rc={'figure.figsize':(5.7,5.27)})\n",
    "cm_data = confusion_matrix(y_test, pred_test_tf)\n",
    "cm = sns.heatmap(cm_data, annot=True, cmap=\"YlGnBu\", linewidths=.5)"
   ]
  },
  {
   "cell_type": "markdown",
   "metadata": {},
   "source": [
    "### Neural Network Classifier"
   ]
  },
  {
   "cell_type": "markdown",
   "metadata": {},
   "source": [
    "##### MLP Classifier with BoW :"
   ]
  },
  {
   "cell_type": "code",
   "execution_count": 88,
   "metadata": {},
   "outputs": [
    {
     "name": "stdout",
     "output_type": "stream",
     "text": [
      "Iteration 1, loss = 3.01635157\n",
      "Iteration 2, loss = 1.67422493\n",
      "Iteration 3, loss = 1.27392179\n",
      "Iteration 4, loss = 1.10017658\n",
      "Iteration 5, loss = 1.01437123\n",
      "Iteration 6, loss = 0.96831290\n",
      "Iteration 7, loss = 0.94002807\n",
      "Iteration 8, loss = 0.92530639\n",
      "Iteration 9, loss = 0.89741989\n",
      "Iteration 10, loss = 0.89642487\n",
      "Iteration 11, loss = 0.89536839\n",
      "Iteration 12, loss = 0.87996434\n",
      "Iteration 13, loss = 0.87143392\n",
      "Iteration 14, loss = 0.87523253\n",
      "Iteration 15, loss = 0.87851260\n",
      "Iteration 16, loss = 0.87611015\n",
      "Training loss did not improve more than tol=0.000100 for two consecutive epochs. Stopping.\n",
      "The accuracy on train set :  0.9421419778416086\n",
      "The accuracy on dev set :  0.751434034416826\n",
      "The accuracy on test set :  0.7547892720306514\n"
     ]
    }
   ],
   "source": [
    "mlp_clf = MLPClassifier(activation='relu', alpha=1.0, verbose=2, batch_size=50)\n",
    "\n",
    "# train the classifier\n",
    "mlp_clf.fit(X_train_counts, y_train)\n",
    "\n",
    "pred_train_mlp = mlp_clf.predict(X_train_counts)\n",
    "pred_dev_mlp = mlp_clf.predict(X_dev_counts)\n",
    "pred_test_mlp = mlp_clf.predict(X_test_counts)\n",
    "\n",
    "\n",
    "\n",
    "print(\"The accuracy on train set : \", metrics.accuracy_score(y_train, pred_train_mlp))\n",
    "\n",
    "print(\"The accuracy on dev set : \", metrics.accuracy_score(y_dev, pred_dev_mlp))\n",
    "\n",
    "print(\"The accuracy on test set : \", metrics.accuracy_score(y_test, pred_test_mlp))"
   ]
  },
  {
   "cell_type": "code",
   "execution_count": 86,
   "metadata": {},
   "outputs": [
    {
     "name": "stdout",
     "output_type": "stream",
     "text": [
      "---------------------- MLP Classifier with TF-IDF representation -----------------------\n",
      "\n",
      "               precision    recall  f1-score   support\n",
      "\n",
      "Advertisement       0.62      0.51      0.56        35\n",
      "        Email       0.96      0.94      0.95        96\n",
      "         Form       0.81      0.82      0.81        61\n",
      "       Letter       0.69      0.71      0.70        80\n",
      "         Memo       0.66      0.81      0.73        95\n",
      "         News       0.89      0.55      0.68        29\n",
      "         Note       0.53      0.84      0.65        25\n",
      "       Report       0.65      0.51      0.57        47\n",
      "       Resume       1.00      1.00      1.00        19\n",
      "   Scientific       0.65      0.43      0.52        35\n",
      "\n",
      "  avg / total       0.75      0.74      0.74       522\n",
      "\n",
      "\n",
      "MLP-TF-TDF\n"
     ]
    },
    {
     "data": {
      "image/png": "[encoded data removed]",
      "text/plain": [
       "<Figure size 410.4x379.44 with 2 Axes>"
      ]
     },
     "metadata": {},
     "output_type": "display_data"
    }
   ],
   "source": [
    "print('---------------------- MLP Classifier with TF-IDF representation -----------------------\\n')\n",
    "print(classification_report(y_test, pred_test_mlp))\n",
    "print()\n",
    "print('MLP-TF-TDF')\n",
    "sns.set(rc={'figure.figsize':(5.7,5.27)})\n",
    "cm_data = confusion_matrix(y_test, pred_test_mlp)\n",
    "cm = sns.heatmap(cm_data, annot=True, cmap=\"YlGnBu\", linewidths=.5)"
   ]
  }
 ],
 "metadata": {
  "kernelspec": {
   "display_name": "Python 3",
   "language": "python",
   "name": "python3"
  },
  "language_info": {
   "codemirror_mode": {
    "name": "ipython",
    "version": 3
   },
   "file_extension": ".py",
   "mimetype": "text/x-python",
   "name": "python",
   "nbconvert_exporter": "python",
   "pygments_lexer": "ipython3",
   "version": "3.6.4"
  }
 },
 "nbformat": 4,
 "nbformat_minor": 2
}
